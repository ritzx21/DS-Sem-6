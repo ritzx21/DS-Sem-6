{
  "nbformat": 4,
  "nbformat_minor": 0,
  "metadata": {
    "colab": {
      "provenance": [],
      "authorship_tag": "ABX9TyN6aLVFtu2A2sQgHmEbKooo",
      "include_colab_link": true
    },
    "kernelspec": {
      "name": "python3",
      "display_name": "Python 3"
    },
    "language_info": {
      "name": "python"
    }
  },
  "cells": [
    {
      "cell_type": "markdown",
      "metadata": {
        "id": "view-in-github",
        "colab_type": "text"
      },
      "source": [
        "<a href=\"https://colab.research.google.com/github/ritzx21/DS-Sem-6/blob/main/DS_Assignment_1.ipynb\" target=\"_parent\"><img src=\"https://colab.research.google.com/assets/colab-badge.svg\" alt=\"Open In Colab\"/></a>"
      ]
    },
    {
      "cell_type": "markdown",
      "source": [
        "Numerical Data in Similarity Measure"
      ],
      "metadata": {
        "id": "mBJpROpbMk9Q"
      }
    },
    {
      "cell_type": "code",
      "execution_count": null,
      "metadata": {
        "id": "1pSfJRnEKnTp"
      },
      "outputs": [],
      "source": [
        "import numpy as np"
      ]
    },
    {
      "cell_type": "code",
      "source": [
        "def euclidean_distance(v1,v2):\n",
        "  v1 = np.array(v1)\n",
        "  v2 = np.array(v2)\n",
        "  return np.sqrt(np.sum(v1-v2)**2)"
      ],
      "metadata": {
        "id": "jIuFUtLAMwqu"
      },
      "execution_count": null,
      "outputs": []
    },
    {
      "cell_type": "code",
      "source": [
        "def manhattan_distance(v1,v2):\n",
        "  v1 = np.array(v1)\n",
        "  v2 = np.array(v2)\n",
        "  return np.sum(np.abs(v1-v2))"
      ],
      "metadata": {
        "id": "LylJKmuZQe37"
      },
      "execution_count": null,
      "outputs": []
    },
    {
      "cell_type": "code",
      "source": [
        "def minkowski_distance(v1,v2,p):\n",
        "  v1 = np.array(v1)\n",
        "  v2 = np.array(v2)\n",
        "  return np.power(np.sum(np.power(np.abs(v1-v2),p)),1/p)"
      ],
      "metadata": {
        "id": "lJA3cM5-QqZG"
      },
      "execution_count": null,
      "outputs": []
    },
    {
      "cell_type": "code",
      "source": [
        "def supremum_distance(v1,v2):\n",
        "  v1 = np.array(v1)\n",
        "  v2 = np.array(v2)\n",
        "  return np.max(np.abs(v1-v2))"
      ],
      "metadata": {
        "id": "ppqmhjDYQ9-D"
      },
      "execution_count": null,
      "outputs": []
    },
    {
      "cell_type": "code",
      "source": [
        "def main():\n",
        "  vector1 = [1,2,3]\n",
        "  vector2 = [4,5,6]\n",
        "\n",
        "  while True:\n",
        "    print(\"Menu:\")\n",
        "    print(\"1. Euclidean Distance\")\n",
        "    print(\"2. Manhattan Distance\")\n",
        "    print(\"3. Minkowski Distance\")\n",
        "    print(\"4. Supremum Distance\")\n",
        "    print(\"5. Exit\")\n",
        "\n",
        "    choice = int(input(\"Enter Choice: \"))\n",
        "    if choice ==1:\n",
        "      similarity = euclidean_distance(vector1 , vector2)\n",
        "      print(\" \")\n",
        "      print(f\"Euclidean Distance: {similarity}\")\n",
        "      print(\" \")\n",
        "\n",
        "    elif choice == 2:\n",
        "      similarity = manhattan_distance(vector1, vector2)\n",
        "      print(\" \")\n",
        "      print(f\"Manhattan Distance: {similarity}\")\n",
        "      print(\" \")\n",
        "\n",
        "    elif choice == 3:\n",
        "      p = int(input(\"Enter the order of the Minkowski Distance: \"))\n",
        "      similarity = minkowski_distance(vector1, vector2, p)\n",
        "      print(\" \")\n",
        "      print(f\"Minkowski Distance: {similarity}\")\n",
        "      print(\" \")\n",
        "\n",
        "    elif choice == 4:\n",
        "      similarity = supremum_distance(vector1, vector2)\n",
        "      print(\" \")\n",
        "      print(f\"Supremum Distance: {similarity}\")\n",
        "      print(\" \")\n",
        "\n",
        "    elif choice == 5:\n",
        "      break\n",
        "\n",
        "    else:\n",
        "      print(\"Invalid choice. Try Again\")\n",
        "\n",
        "\n",
        "main()"
      ],
      "metadata": {
        "colab": {
          "base_uri": "https://localhost:8080/"
        },
        "id": "hFHs1MmuRXAw",
        "outputId": "3304d70d-42f5-4928-a0b4-133839118d10"
      },
      "execution_count": null,
      "outputs": [
        {
          "name": "stdout",
          "output_type": "stream",
          "text": [
            "Menu:\n",
            "1. Euclidean Distance\n",
            "2. Manhattan Distance\n",
            "3. Minkowski Distance\n",
            "4. Supremum Distance\n",
            "5. Exit\n",
            "Enter Choice: 1\n",
            " \n",
            "Euclidean Distance: 9.0\n",
            " \n",
            "Menu:\n",
            "1. Euclidean Distance\n",
            "2. Manhattan Distance\n",
            "3. Minkowski Distance\n",
            "4. Supremum Distance\n",
            "5. Exit\n",
            "Enter Choice: 3\n",
            "Enter the order of the Minkowski Distance: 5\n",
            " \n",
            "Minkowski Distance: 3.737192818846552\n",
            " \n",
            "Menu:\n",
            "1. Euclidean Distance\n",
            "2. Manhattan Distance\n",
            "3. Minkowski Distance\n",
            "4. Supremum Distance\n",
            "5. Exit\n",
            "Enter Choice: 5\n"
          ]
        }
      ]
    },
    {
      "cell_type": "markdown",
      "source": [
        "For Binary Data in Similarity Measure"
      ],
      "metadata": {
        "id": "GYWKXdGNUFQM"
      }
    },
    {
      "cell_type": "code",
      "source": [
        "def simple_matching_coefficient(v1,v2):\n",
        "  v1 = set(v1)\n",
        "  v2 = set(v2)\n",
        "  return len(v1.intersection(v2)) / len(v1.union(v2))"
      ],
      "metadata": {
        "id": "CD_Olr0rToHz"
      },
      "execution_count": null,
      "outputs": []
    },
    {
      "cell_type": "code",
      "source": [
        "def jaccard_coefficient(v1,v2):\n",
        "  v1 = set(v1)\n",
        "  v2 = set(v2)\n",
        "  return len(v1.intersection(v2)) / len(v1.union(v1))"
      ],
      "metadata": {
        "id": "90QF7MevUh8Y"
      },
      "execution_count": null,
      "outputs": []
    },
    {
      "cell_type": "code",
      "source": [
        "def main():\n",
        "  vector1 = [1,2,3,4,5,6]\n",
        "  vector2 = [4,5,6,7,8,9]\n",
        "\n",
        "  while True:\n",
        "    print(\"Menu:\")\n",
        "    print(\"1. Simple Matching Coefficient\")\n",
        "    print(\"2. Jaccard Coefficient\")\n",
        "    print(\"3. Exit\")\n",
        "\n",
        "    choice = int(input(\"Enter choice: \"))\n",
        "    if choice == 1:\n",
        "      similarity = simple_matching_coefficient(vector1, vector2)\n",
        "      print(\" \")\n",
        "      print(f\"Simple Matching Coefficient: {similarity}\")\n",
        "      print(\" \")\n",
        "\n",
        "    elif choice == 2:\n",
        "      similarity = jaccard_coefficient(vector1, vector2)\n",
        "      print(\" \")\n",
        "      print(f\"Jaccard Coefficient: {similarity}\")\n",
        "      print(\" \")\n",
        "\n",
        "    elif choice == 3:\n",
        "      break\n",
        "    else: print(\"Invalid choice. Try Again\")\n",
        "    print(\" \")\n",
        "\n",
        "main()"
      ],
      "metadata": {
        "colab": {
          "base_uri": "https://localhost:8080/"
        },
        "id": "-Uh2l2CSUvAR",
        "outputId": "4f3ed8b2-f78f-4f7f-be9d-467186e86d66"
      },
      "execution_count": null,
      "outputs": [
        {
          "name": "stdout",
          "output_type": "stream",
          "text": [
            "Menu:\n",
            "1. Simple Matching Coefficient\n",
            "2. Jaccard Coefficient\n",
            "3. Exit\n",
            "Enter choice: 2\n",
            " \n",
            "Jaccard Coefficient: 0.5\n",
            " \n",
            " \n",
            "Menu:\n",
            "1. Simple Matching Coefficient\n",
            "2. Jaccard Coefficient\n",
            "3. Exit\n",
            "Enter choice: 5\n",
            "Invalid choice. Try Again\n",
            " \n",
            "Menu:\n",
            "1. Simple Matching Coefficient\n",
            "2. Jaccard Coefficient\n",
            "3. Exit\n",
            "Enter choice: 3\n"
          ]
        }
      ]
    },
    {
      "cell_type": "markdown",
      "source": [
        "For Textual Data"
      ],
      "metadata": {
        "id": "dIsmE_1wWVmg"
      }
    },
    {
      "cell_type": "code",
      "source": [
        "def jaccard_similarity(x,y):\n",
        "  intersection = len(set(x) & set(y))\n",
        "  union = len(set(x) | set(y))\n",
        "  return intersection/union"
      ],
      "metadata": {
        "id": "pPMsZwZHV981"
      },
      "execution_count": null,
      "outputs": []
    },
    {
      "cell_type": "code",
      "source": [
        "from sklearn.feature_extraction.text import CountVectorizer\n",
        "from sklearn.metrics.pairwise import cosine_similarity\n",
        "\n",
        "def cosine_similarity_measure(x,y):\n",
        "  vectorizer = CountVectorizer().fit_transform([x,y])\n",
        "  vectors = vectorizer.toarray()\n",
        "  return cosine_similarity([vectors[0]], [vectors[1]])[0,0]"
      ],
      "metadata": {
        "id": "woRFetoXGmAz"
      },
      "execution_count": null,
      "outputs": []
    },
    {
      "cell_type": "code",
      "source": [
        "def edit_distance(x,y):\n",
        "  m,n = len(x), len(y)\n",
        "  dp = [[0]*(n+1) for _ in range(m+1)]\n",
        "\n",
        "  for i in range(m+1):\n",
        "    for j in range(n+1):\n",
        "      if i == 0:\n",
        "        dp[i][j] = j\n",
        "      elif j ==0:\n",
        "        dp[i][j] = i\n",
        "      elif x[i-1] == y[j - 1]:\n",
        "        dp[i][j] = dp[i - 1][j- 1]\n",
        "      else:\n",
        "        dp[i][j] = 1 + min(dp[i-1][j], dp[i][j-1], dp[i-1][j-1])\n",
        "\n",
        "  return dp[m][n]\n"
      ],
      "metadata": {
        "id": "HBNcpMVnIO1z"
      },
      "execution_count": null,
      "outputs": []
    },
    {
      "cell_type": "code",
      "source": [
        "def jaro_distance(s1,s2):\n",
        "  len_s1 = len(s1)\n",
        "  len_s2 = len(s2)\n",
        "\n",
        "  if len_s1 == 0 and len_s2 == 0:\n",
        "    return 1.0\n",
        "\n",
        "  match_distance = max(len_s1, len_s2)//2-1\n",
        "\n",
        "  s1_matches = [False]*len_s1\n",
        "  s2_matches = [False]*len_s2\n",
        "\n",
        "  matches = 0\n",
        "  transpositions = 0\n",
        "\n",
        "  for i in range(len_s1):\n",
        "    if not s2_matches[j] and s1[i] == s2[j]:\n",
        "      s1_matches[i] = True\n",
        "      s2_matches[j] = True\n",
        "      matches += 1\n",
        "      break\n",
        "  if matches ==0:\n",
        "    return 0.0\n",
        "\n",
        "    k = 0\n",
        "    for i in range(len_s1):\n",
        "      if s1_matches[i]:\n",
        "        while not s2_matches[k]:\n",
        "          k += 1\n",
        "        if s1[i] != s2[k]:\n",
        "          transposition += 1\n",
        "        k += 1\n",
        "    return (\n",
        "        (matches / len_s1)\n",
        "        + (matches / len_s2)\n",
        "        + ((matches - transpositions / 2) / matches)\n",
        "    ) / 3.0\n"
      ],
      "metadata": {
        "id": "1C3foS13LQYY"
      },
      "execution_count": null,
      "outputs": []
    },
    {
      "cell_type": "code",
      "source": [
        "def ngram_distance(x,y,n):\n",
        "  x_ngrams = set([tuple(x[i:i+n]) for i in range(len(x)-n+1)])\n",
        "  y_ngrams = set([tuple(y[i:i+n]) for i in range(len(y)-n+1)])\n",
        "  intersection = len(x_ngrams.intersection(y_ngrams))\n",
        "  union = len(x_ngrams) + len(y_ngrams)\n",
        "  return 1.0 - (intersection/union)"
      ],
      "metadata": {
        "id": "LNdnYwInaI1U"
      },
      "execution_count": null,
      "outputs": []
    },
    {
      "cell_type": "code",
      "source": [
        "def main():\n",
        "  while True :\n",
        "    print(\"Menu : \")\n",
        "    print(\"1. Jaccard Similarity\")\n",
        "    print(\"2. Cpsine Similarity\")\n",
        "    print(\"3. Edit Distance\")\n",
        "    print(\"4. Jaro Distance\")\n",
        "    print(\"5. N-gram Distance\")\n",
        "    print(\"6. Exit\")\n",
        "    print(\" \")\n",
        "\n",
        "    text_data1 = 'Hello World'\n",
        "    text_data2 = 'World Hello'\n",
        "\n",
        "    print(\"1st text data is : \",text_data1)\n",
        "    print(\"2nd text data is : \",text_data2)\n",
        "    print(\" \")\n",
        "\n",
        "    choice = int(input(\"Enter choice : \"))\n",
        "    if choice == 1:\n",
        "      similarity = jaccard_similarity(text_data1, text_data2)\n",
        "      print(\"Jaccard Similarity : \",similarity)\n",
        "      print(\"\")\n",
        "\n",
        "    elif choice == 2 :\n",
        "      similarity = cosine_similarity_measure(text_data1, text_data2)\n",
        "      print(\"Cosine Similarity : \", similarity)\n",
        "      print(\"\")\n",
        "\n",
        "    elif choice == 3:\n",
        "      similarity = edit_distance(text_data1 ,text_data2)\n",
        "      print(\"Edit distance : \",similarity)\n",
        "      print(\" \")\n",
        "\n",
        "    elif choice == 4:\n",
        "      similarity = jaro_distance(text_data1 , text_data2)\n",
        "      print(\"Jaro distance : \",similarity)\n",
        "      print(\" \")\n",
        "\n",
        "    elif choice == 5:\n",
        "      n_value = 2\n",
        "      similarity = ngram_distance(text_data1, text_data2 , n_value)\n",
        "      print(\"N_gram distance : \", similarity)\n",
        "      print(\"\")\n",
        "\n",
        "    elif choice == 6:\n",
        "      break\n",
        "\n",
        "\n",
        "    else:\n",
        "      print(\"Invalid choice. Try again\")\n",
        "      print(\" \")\n",
        "main()"
      ],
      "metadata": {
        "colab": {
          "base_uri": "https://localhost:8080/"
        },
        "id": "1wTmUndvio41",
        "outputId": "2a5700d1-6caa-448c-8d4d-f4ed2f2f0a08"
      },
      "execution_count": null,
      "outputs": [
        {
          "name": "stdout",
          "output_type": "stream",
          "text": [
            "Menu : \n",
            "1. Jaccard Similarity\n",
            "2. Cpsine Similarity\n",
            "3. Edit Distance\n",
            "4. Jaro Distance\n",
            "5. N-gram Distance\n",
            "6. Exit\n",
            " \n",
            "1st text data is :  Hello World\n",
            "2nd text data is :  World Hello\n",
            " \n",
            "Enter choice : 1\n",
            "Jaccard Similarity :  1.0\n",
            "\n",
            "Menu : \n",
            "1. Jaccard Similarity\n",
            "2. Cpsine Similarity\n",
            "3. Edit Distance\n",
            "4. Jaro Distance\n",
            "5. N-gram Distance\n",
            "6. Exit\n",
            " \n",
            "1st text data is :  Hello World\n",
            "2nd text data is :  World Hello\n",
            " \n",
            "Enter choice : 5\n",
            "N_gram distance :  0.6\n",
            "\n",
            "Menu : \n",
            "1. Jaccard Similarity\n",
            "2. Cpsine Similarity\n",
            "3. Edit Distance\n",
            "4. Jaro Distance\n",
            "5. N-gram Distance\n",
            "6. Exit\n",
            " \n",
            "1st text data is :  Hello World\n",
            "2nd text data is :  World Hello\n",
            " \n",
            "Enter choice : 6\n"
          ]
        }
      ]
    },
    {
      "cell_type": "code",
      "source": [],
      "metadata": {
        "id": "SshuVObVl6hG"
      },
      "execution_count": null,
      "outputs": []
    }
  ]
}