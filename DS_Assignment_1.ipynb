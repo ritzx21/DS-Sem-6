{
  "nbformat": 4,
  "nbformat_minor": 0,
  "metadata": {
    "colab": {
      "provenance": [],
      "authorship_tag": "ABX9TyNmFXA8fxmJYycY3AKO6rcr",
      "include_colab_link": true
    },
    "kernelspec": {
      "name": "python3",
      "display_name": "Python 3"
    },
    "language_info": {
      "name": "python"
    }
  },
  "cells": [
    {
      "cell_type": "markdown",
      "metadata": {
        "id": "view-in-github",
        "colab_type": "text"
      },
      "source": [
        "<a href=\"https://colab.research.google.com/github/ritzx21/DS-Sem-6/blob/main/DS_Assignment_1.ipynb\" target=\"_parent\"><img src=\"https://colab.research.google.com/assets/colab-badge.svg\" alt=\"Open In Colab\"/></a>"
      ]
    },
    {
      "cell_type": "markdown",
      "source": [
        "Numerical Data in Similarity Measure"
      ],
      "metadata": {
        "id": "mBJpROpbMk9Q"
      }
    },
    {
      "cell_type": "code",
      "execution_count": null,
      "metadata": {
        "id": "1pSfJRnEKnTp"
      },
      "outputs": [],
      "source": [
        "import numpy as np"
      ]
    },
    {
      "cell_type": "code",
      "source": [
        "def euclidean_distance(v1,v2):\n",
        "  v1 = np.array(v1)\n",
        "  v2 = np.array(v2)\n",
        "  return np.sqrt(np.sum(v1-v2)**2)"
      ],
      "metadata": {
        "id": "jIuFUtLAMwqu"
      },
      "execution_count": null,
      "outputs": []
    },
    {
      "cell_type": "code",
      "source": [
        "def manhattan_distance(v1,v2):\n",
        "  v1 = np.array(v1)\n",
        "  v2 = np.array(v2)\n",
        "  return np.sum(np.abs(v1-v2))"
      ],
      "metadata": {
        "id": "LylJKmuZQe37"
      },
      "execution_count": null,
      "outputs": []
    },
    {
      "cell_type": "code",
      "source": [
        "def minkowski_distance(v1,v2,p):\n",
        "  v1 = np.array(v1)\n",
        "  v2 = np.array(v2)\n",
        "  return np.power(np.sum(np.power(np.abs(v1-v2),p)),1/p)"
      ],
      "metadata": {
        "id": "lJA3cM5-QqZG"
      },
      "execution_count": null,
      "outputs": []
    },
    {
      "cell_type": "code",
      "source": [
        "def supremum_distance(v1,v2):\n",
        "  v1 = np.array(v1)\n",
        "  v2 = np.array(v2)\n",
        "  return np.max(np.abs(v1-v2))"
      ],
      "metadata": {
        "id": "ppqmhjDYQ9-D"
      },
      "execution_count": null,
      "outputs": []
    },
    {
      "cell_type": "code",
      "source": [
        "def main():\n",
        "  vector1 = [1,2,3]\n",
        "  vector2 = [4,5,6]\n",
        "\n",
        "  while True:\n",
        "    print(\"Menu:\")\n",
        "    print(\"1. Euclidean Distance\")\n",
        "    print(\"2. Manhattan Distance\")\n",
        "    print(\"3. Minkowski Distance\")\n",
        "    print(\"4. Supremum Distance\")\n",
        "    print(\"5. Exit\")\n",
        "\n",
        "    choice = int(input(\"Enter Choice: \"))\n",
        "    if choice ==1:\n",
        "      similarity = euclidean_distance(vector1 , vector2)\n",
        "      print(\" \")\n",
        "      print(f\"Euclidean Distance: {similarity}\")\n",
        "      print(\" \")\n",
        "\n",
        "    elif choice == 2:\n",
        "      similarity = manhattan_distance(vector1, vector2)\n",
        "      print(\" \")\n",
        "      print(f\"Manhattan Distance: {similarity}\")\n",
        "      print(\" \")\n",
        "\n",
        "    elif choice == 3:\n",
        "      p = int(input(\"Enter the order of the Minkowski Distance: \"))\n",
        "      similarity = minkowski_distance(vector1, vector2, p)\n",
        "      print(\" \")\n",
        "      print(f\"Minkowski Distance: {similarity}\")\n",
        "      print(\" \")\n",
        "\n",
        "    elif choice == 4:\n",
        "      similarity = supremum_distance(vector1, vector2)\n",
        "      print(\" \")\n",
        "      print(f\"Supremum Distance: {similarity}\")\n",
        "      print(\" \")\n",
        "\n",
        "    elif choice == 5:\n",
        "      break\n",
        "\n",
        "    else:\n",
        "      print(\"Invalid choice. Try Again\")\n",
        "\n",
        "\n",
        "main()"
      ],
      "metadata": {
        "colab": {
          "base_uri": "https://localhost:8080/"
        },
        "id": "hFHs1MmuRXAw",
        "outputId": "3304d70d-42f5-4928-a0b4-133839118d10"
      },
      "execution_count": null,
      "outputs": [
        {
          "name": "stdout",
          "output_type": "stream",
          "text": [
            "Menu:\n",
            "1. Euclidean Distance\n",
            "2. Manhattan Distance\n",
            "3. Minkowski Distance\n",
            "4. Supremum Distance\n",
            "5. Exit\n",
            "Enter Choice: 1\n",
            " \n",
            "Euclidean Distance: 9.0\n",
            " \n",
            "Menu:\n",
            "1. Euclidean Distance\n",
            "2. Manhattan Distance\n",
            "3. Minkowski Distance\n",
            "4. Supremum Distance\n",
            "5. Exit\n",
            "Enter Choice: 3\n",
            "Enter the order of the Minkowski Distance: 5\n",
            " \n",
            "Minkowski Distance: 3.737192818846552\n",
            " \n",
            "Menu:\n",
            "1. Euclidean Distance\n",
            "2. Manhattan Distance\n",
            "3. Minkowski Distance\n",
            "4. Supremum Distance\n",
            "5. Exit\n",
            "Enter Choice: 5\n"
          ]
        }
      ]
    },
    {
      "cell_type": "markdown",
      "source": [
        "For Binary Data in Similarity Measure"
      ],
      "metadata": {
        "id": "GYWKXdGNUFQM"
      }
    },
    {
      "cell_type": "code",
      "source": [
        "def simple_matching_coefficient(v1,v2):\n",
        "  v1 = set(v1)\n",
        "  v2 = set(v2)\n",
        "  return len(v1.intersection(v2)) / len(v1.union(v2))"
      ],
      "metadata": {
        "id": "CD_Olr0rToHz"
      },
      "execution_count": null,
      "outputs": []
    },
    {
      "cell_type": "code",
      "source": [
        "def jaccard_coefficient(v1,v2):\n",
        "  v1 = set(v1)\n",
        "  v2 = set(v2)\n",
        "  return len(v1.intersection(v2)) / len(v1.union(v1))"
      ],
      "metadata": {
        "id": "90QF7MevUh8Y"
      },
      "execution_count": null,
      "outputs": []
    },
    {
      "cell_type": "code",
      "source": [
        "def main():\n",
        "  vector1 = [1,2,3,4,5,6]\n",
        "  vector2 = [4,5,6,7,8,9]\n",
        "\n",
        "  while True:\n",
        "    print(\"Menu:\")\n",
        "    print(\"1. Simple Matching Coefficient\")\n",
        "    print(\"2. Jaccard Coefficient\")\n",
        "    print(\"3. Exit\")\n",
        "\n",
        "    choice = int(input(\"Enter choice: \"))\n",
        "    if choice == 1:\n",
        "      similarity = simple_matching_coefficient(vector1, vector2)\n",
        "      print(\" \")\n",
        "      print(f\"Simple Matching Coefficient: {similarity}\")\n",
        "      print(\" \")\n",
        "\n",
        "    elif choice == 2:\n",
        "      similarity = jaccard_coefficient(vector1, vector2)\n",
        "      print(\" \")\n",
        "      print(f\"Jaccard Coefficient: {similarity}\")\n",
        "      print(\" \")\n",
        "\n",
        "    elif choice == 3:\n",
        "      break\n",
        "    else: print(\"Invalid choice. Try Again\")\n",
        "    print(\" \")\n",
        "\n",
        "main()"
      ],
      "metadata": {
        "colab": {
          "base_uri": "https://localhost:8080/"
        },
        "id": "-Uh2l2CSUvAR",
        "outputId": "4f3ed8b2-f78f-4f7f-be9d-467186e86d66"
      },
      "execution_count": null,
      "outputs": [
        {
          "name": "stdout",
          "output_type": "stream",
          "text": [
            "Menu:\n",
            "1. Simple Matching Coefficient\n",
            "2. Jaccard Coefficient\n",
            "3. Exit\n",
            "Enter choice: 2\n",
            " \n",
            "Jaccard Coefficient: 0.5\n",
            " \n",
            " \n",
            "Menu:\n",
            "1. Simple Matching Coefficient\n",
            "2. Jaccard Coefficient\n",
            "3. Exit\n",
            "Enter choice: 5\n",
            "Invalid choice. Try Again\n",
            " \n",
            "Menu:\n",
            "1. Simple Matching Coefficient\n",
            "2. Jaccard Coefficient\n",
            "3. Exit\n",
            "Enter choice: 3\n"
          ]
        }
      ]
    },
    {
      "cell_type": "markdown",
      "source": [
        "For Textual Data"
      ],
      "metadata": {
        "id": "dIsmE_1wWVmg"
      }
    },
    {
      "cell_type": "code",
      "source": [],
      "metadata": {
        "id": "pPMsZwZHV981"
      },
      "execution_count": null,
      "outputs": []
    }
  ]
}